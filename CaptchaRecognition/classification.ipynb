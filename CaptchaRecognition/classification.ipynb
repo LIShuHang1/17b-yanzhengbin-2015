{
 "cells": [
  {
   "cell_type": "code",
   "execution_count": 6,
   "metadata": {},
   "outputs": [
    {
     "name": "stdout",
     "output_type": "stream",
     "text": [
      "1 个字母的验证码有: 9844 个\n",
      "2 个字母的验证码有: 5908 个\n",
      "3 个字母的验证码有: 16183 个\n",
      "4 个字母的验证码有: 8065 个\n"
     ]
    }
   ],
   "source": [
    "import tensorflow as tf\n",
    "import numpy as np\n",
    "filename_queue = tf.train.string_input_producer([\"data/captcha/labels/labels.csv\"])\n",
    "\n",
    "reader = tf.TextLineReader()\n",
    "key, value = reader.read(filename_queue)\n",
    "\n",
    "record_defaults = [['null'],['null']]\n",
    "deco = tf.decode_csv(value, record_defaults)\n",
    "img_num = np.zeros([4])\n",
    "with tf.Session() as sess:\n",
    "    sess.run([tf.global_variables_initializer(), tf.local_variables_initializer()])\n",
    "    coord = tf.train.Coordinator()\n",
    "    threads = tf.train.start_queue_runners(coord=coord)\n",
    "    for i in range(40000):\n",
    "        a, b = sess.run(deco)\n",
    "        img_num[len(b)-1] += 1\n",
    "    coord.request_stop()\n",
    "    coord.join(threads)\n",
    "for i in range(4):\n",
    "    print(\"%d 个字母的验证码有: %d 个\" %(i+1, img_num[i]))"
   ]
  },
  {
   "cell_type": "code",
   "execution_count": null,
   "metadata": {
    "collapsed": true
   },
   "outputs": [],
   "source": []
  }
 ],
 "metadata": {
  "kernelspec": {
   "display_name": "Python 3",
   "language": "python",
   "name": "python3"
  },
  "language_info": {
   "codemirror_mode": {
    "name": "ipython",
    "version": 3
   },
   "file_extension": ".py",
   "mimetype": "text/x-python",
   "name": "python",
   "nbconvert_exporter": "python",
   "pygments_lexer": "ipython3",
   "version": "3.6.0"
  }
 },
 "nbformat": 4,
 "nbformat_minor": 2
}
