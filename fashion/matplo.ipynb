{
 "cells": [
  {
   "cell_type": "code",
   "execution_count": 1,
   "metadata": {},
   "outputs": [
    {
     "name": "stdout",
     "output_type": "stream",
     "text": [
      "Extracting data/fashion/train-images-idx3-ubyte.gz\n",
      "Extracting data/fashion/train-labels-idx1-ubyte.gz\n",
      "Extracting data/fashion/t10k-images-idx3-ubyte.gz\n",
      "Extracting data/fashion/t10k-labels-idx1-ubyte.gz\n"
     ]
    },
    {
     "data": {
      "image/png": "[encoded data removed]",
      "text/plain": [
       "<matplotlib.figure.Figure at 0x7fbe6c619e80>"
      ]
     },
     "metadata": {},
     "output_type": "display_data"
    }
   ],
   "source": [
    "import matplotlib.pyplot as plt  \n",
    "  \n",
    "from tensorflow.contrib.learn.python.learn.datasets.mnist import read_data_sets  \n",
    "  \n",
    "mnist = read_data_sets('data/fashion', one_hot=False)  \n",
    "x, y = mnist.test.next_batch(1)  \n",
    "x = x.reshape([28, 28])  \n",
    "  \n",
    "fig = plt.figure()  \n",
    "# Method1   \n",
    "ax1 = fig.add_subplot(221)  \n",
    "ax1.imshow(x, cmap=plt.cm.gray)  \n",
    "  \n",
    "# Method2: 反转色  \n",
    "ax2 = fig.add_subplot(222)  \n",
    "ax2.imshow(x, cmap=plt.cm.gray_r) # r表示reverse  \n",
    "  \n",
    "# Method3（等价于Method1）  \n",
    "ax3 = fig.add_subplot(223)  \n",
    "ax3.imshow(x, cmap='gray')  \n",
    "  \n",
    "# Method4（等价于Method2）  \n",
    "ax4 = fig.add_subplot(224)  \n",
    "ax4.imshow(x, cmap='gray_r')  \n",
    "  \n",
    "plt.show()   \n",
    "plt.savefig(\"gray.png\")    "
   ]
  }
 ],
 "metadata": {
  "kernelspec": {
   "display_name": "Python 3",
   "language": "python",
   "name": "python3"
  },
  "language_info": {
   "codemirror_mode": {
    "name": "ipython",
    "version": 3
   },
   "file_extension": ".py",
   "mimetype": "text/x-python",
   "name": "python",
   "nbconvert_exporter": "python",
   "pygments_lexer": "ipython3",
   "version": "3.6.0"
  }
 },
 "nbformat": 4,
 "nbformat_minor": 2
}
