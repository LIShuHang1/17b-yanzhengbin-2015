{
 "cells": [
  {
   "cell_type": "code",
   "execution_count": 2,
   "metadata": {},
   "outputs": [
    {
     "name": "stdout",
     "output_type": "stream",
     "text": [
      "Extracting data/fashion/train-images-idx3-ubyte.gz\n",
      "Extracting data/fashion/train-labels-idx1-ubyte.gz\n",
      "Extracting data/fashion/t10k-images-idx3-ubyte.gz\n",
      "Extracting data/fashion/t10k-labels-idx1-ubyte.gz\n",
      "Congratulations, cluster complete!\n",
      "[ 4.  9.  8. ...,  0.  1.  6.]\n"
     ]
    }
   ],
   "source": [
    "from numpy import *  \n",
    "import time    \n",
    "from tensorflow.examples.tutorials.mnist import input_data\n",
    "  \n",
    "# calculate Euclidean distance  \n",
    "def euclDistance(vector1, vector2):  \n",
    "    return sqrt(sum(power(vector2 - vector1, 2)))  #求这两个矩阵的距离，vector1、2均为矩阵\n",
    "  \n",
    "# init centroids with random samples  \n",
    "#在样本集中随机选取k个样本点作为初始质心\n",
    "def initCentroids(dataSet, k):  \n",
    "    numSamples, dim = dataSet.shape   #矩阵的行数、列数 \n",
    "    centroids = zeros((k, dim))  \t\t#感觉要不要你都可以\n",
    "    for i in range(k):  \n",
    "        index = int(random.uniform(0, numSamples))  #随机产生一个浮点数，然后将其转化为int型\n",
    "        centroids[i, :] = dataSet[index, :]  \n",
    "    return centroids  \n",
    "  \n",
    "# k-means cluster \n",
    "#dataSet为一个矩阵\n",
    "#k为将dataSet矩阵中的样本分成k个类 \n",
    "def kmeans(dataSet, k):  \n",
    "    numSamples = dataSet.shape[0]  # 读取矩阵dataSet的第一维度的长度,即获得有多少个样本数据\n",
    "    # first column stores which cluster this sample belongs to,  \n",
    "    # second column stores the error between this sample and its centroid  \n",
    "    clusterAssment = mat(zeros((numSamples, 2)))  #得到一个N*2的零矩阵\n",
    "    clusterChanged = True  \n",
    "  \n",
    "    ## step 1: init centroids  \n",
    "    centroids = initCentroids(dataSet, k)  #在样本集中随机选取k个样本点作为初始质心\n",
    "  \n",
    "    while clusterChanged:  \n",
    "        clusterChanged = False  \n",
    "        ## for each sample  \n",
    "        for i in range(numSamples):  #range\n",
    "            minDist  = 100000.0  \n",
    "            minIndex = 0  \n",
    "            ## for each centroid  \n",
    "            ## step 2: find the centroid who is closest  \n",
    "            #计算每个样本点与质点之间的距离，将其归内到距离最小的那一簇\n",
    "            for j in range(k):  \n",
    "                distance = euclDistance(centroids[j, :], dataSet[i, :])  \n",
    "                if distance < minDist:  \n",
    "                    minDist  = distance  \n",
    "                    minIndex = j  \n",
    "              \n",
    "            ## step 3: update its cluster \n",
    "            #k个簇里面与第i个样本距离最小的的标号和距离保存在clusterAssment中\n",
    "            #若所有的样本不在变化，则退出while循环\n",
    "            if clusterAssment[i, 0] != minIndex:  \n",
    "                clusterChanged = True  \n",
    "                clusterAssment[i, :] = minIndex, minDist**2  #两个**表示的是minDist的平方\n",
    "  \n",
    "        ## step 4: update centroids  \n",
    "        for j in range(k):  \n",
    "            #clusterAssment[:,0].A==j是找出矩阵clusterAssment中第一列元素中等于j的行的下标，返回的是一个以array的列表，第一个array为等于j的下标\n",
    "            pointsInCluster = dataSet[nonzero(clusterAssment[:, 0].A == j)[0]] #将dataSet矩阵中相对应的样本提取出来 \n",
    "            centroids[j, :] = mean(pointsInCluster, axis = 0)  #计算标注为j的所有样本的平均值\n",
    "  \n",
    "    print ('Congratulations, cluster complete!')  \n",
    "    return centroids, clusterAssment  \n",
    "  \n",
    "# show your cluster only available with 2-D data \n",
    "#centroids为k个类别，其中保存着每个类别的质心\n",
    "#clusterAssment为样本的标记，第一列为此样本的类别号，第二列为到此类别质心的距离 \n",
    "def showCluster(dataSet, k, centroids, clusterAssment):\n",
    "    m = dataSet.shape[0]\n",
    "    preds = empty((m,))\n",
    "    for i in range(m):#将每个样本点分配到离它最近的质心所属的族\n",
    "        minDist = 10000.0\n",
    "        for j in range(k):\n",
    "            distJI = euclDistance(centroids[j,:],dataSet[i,:])\n",
    "            if distJI < minDist:\n",
    "                minDist = distJI\n",
    "                preds[i] = j\n",
    "    print(preds)\n",
    "     \n",
    "mnist = input_data.read_data_sets(\"data/fashion/\", one_hot=True)\n",
    "\n",
    "centroids, clusterAssment = kmeans(mnist.train.images, 10)\n",
    "\n",
    "showCluster(mnist.validation.images, 10, centroids, clusterAssment)"
   ]
  },
  {
   "cell_type": "code",
   "execution_count": null,
   "metadata": {
    "collapsed": true
   },
   "outputs": [],
   "source": []
  }
 ],
 "metadata": {
  "kernelspec": {
   "display_name": "Python 3",
   "language": "python",
   "name": "python3"
  },
  "language_info": {
   "codemirror_mode": {
    "name": "ipython",
    "version": 3
   },
   "file_extension": ".py",
   "mimetype": "text/x-python",
   "name": "python",
   "nbconvert_exporter": "python",
   "pygments_lexer": "ipython3",
   "version": "3.6.0"
  }
 },
 "nbformat": 4,
 "nbformat_minor": 2
}
